{
 "cells": [
  {
   "cell_type": "code",
   "execution_count": 1,
   "id": "9feeb2c7-1c33-4caf-ade8-9175d8656d63",
   "metadata": {},
   "outputs": [],
   "source": [
    "class Employee:\n",
    "    pass"
   ]
  },
  {
   "cell_type": "code",
   "execution_count": 2,
   "id": "7421be6b-9973-41ed-8299-91cdc72ed296",
   "metadata": {},
   "outputs": [],
   "source": [
    "emp1 = Employee()"
   ]
  },
  {
   "cell_type": "code",
   "execution_count": 3,
   "id": "ed37ad55-af1d-4268-8947-2fc58aa973ab",
   "metadata": {},
   "outputs": [],
   "source": [
    "emp2 = Employee()"
   ]
  },
  {
   "cell_type": "code",
   "execution_count": 4,
   "id": "0a3eb8a0-2d38-413c-ab85-96e69ed19b56",
   "metadata": {},
   "outputs": [
    {
     "name": "stdout",
     "output_type": "stream",
     "text": [
      "<__main__.Employee object at 0x79c7a912b7a0>\n"
     ]
    }
   ],
   "source": [
    "print(emp1)"
   ]
  },
  {
   "cell_type": "code",
   "execution_count": 5,
   "id": "c3a93d50-3546-4778-9e7e-7803b9a9543a",
   "metadata": {},
   "outputs": [
    {
     "name": "stdout",
     "output_type": "stream",
     "text": [
      "<__main__.Employee object at 0x79c7a91288c0>\n"
     ]
    }
   ],
   "source": [
    "print(emp2)"
   ]
  },
  {
   "cell_type": "code",
   "execution_count": 6,
   "id": "c929dbbb-2472-4077-b37f-698b30c32a2a",
   "metadata": {},
   "outputs": [],
   "source": [
    "# instance variables\n",
    "\n",
    "emp1.first = 'Ajay'\n",
    "emp1.last = 'Mishra'\n",
    "emp1.sal = 51000\n",
    "\n",
    "emp2.first = 'Geet'\n",
    "emp2.last = 'Chavan'\n",
    "emp2.sal = 50000"
   ]
  },
  {
   "cell_type": "code",
   "execution_count": 7,
   "id": "ba8f67a5-0c2b-4483-9ef2-d7cddc0ec4b4",
   "metadata": {},
   "outputs": [
    {
     "name": "stdout",
     "output_type": "stream",
     "text": [
      "Ajay\n"
     ]
    }
   ],
   "source": [
    "print(emp1.first)"
   ]
  },
  {
   "cell_type": "code",
   "execution_count": 8,
   "id": "49209aa6-fcbd-4dd8-b832-5536d2d7ba56",
   "metadata": {},
   "outputs": [
    {
     "name": "stdout",
     "output_type": "stream",
     "text": [
      "50000\n"
     ]
    }
   ],
   "source": [
    "print(emp2.sal)"
   ]
  },
  {
   "cell_type": "code",
   "execution_count": 9,
   "id": "08d2f4b4-6110-4840-bb81-828fb08280b3",
   "metadata": {},
   "outputs": [],
   "source": [
    "class Employee:\n",
    "    comp = 'TCS'   # class variable\n",
    "    def __init__ (self, first, last, sal):  \n",
    "        self.first = first   # instance variables\n",
    "        self.last = last\n",
    "        self.sal = sal\n",
    "\n",
    "    def year_sal(self):\n",
    "        return self.sal * 12"
   ]
  },
  {
   "cell_type": "code",
   "execution_count": 10,
   "id": "93ef4a9a-1a4c-4b5d-aa5d-8442ad3630a1",
   "metadata": {},
   "outputs": [],
   "source": [
    "emp1 = Employee('Ajay', 'Mishra', 51000)"
   ]
  },
  {
   "cell_type": "code",
   "execution_count": 11,
   "id": "7ce0d45b-dae2-4868-8fde-f678111cf8ba",
   "metadata": {},
   "outputs": [
    {
     "data": {
      "text/plain": [
       "'Ajay'"
      ]
     },
     "execution_count": 11,
     "metadata": {},
     "output_type": "execute_result"
    }
   ],
   "source": [
    "emp1.first"
   ]
  },
  {
   "cell_type": "code",
   "execution_count": 12,
   "id": "766c9dfe-c293-42ae-9cf1-d1e7aef4a8d5",
   "metadata": {},
   "outputs": [
    {
     "data": {
      "text/plain": [
       "'TCS'"
      ]
     },
     "execution_count": 12,
     "metadata": {},
     "output_type": "execute_result"
    }
   ],
   "source": [
    "emp1.comp"
   ]
  },
  {
   "cell_type": "code",
   "execution_count": 13,
   "id": "1a6790db-59ec-4a3b-b147-82af73785488",
   "metadata": {},
   "outputs": [
    {
     "data": {
      "text/plain": [
       "612000"
      ]
     },
     "execution_count": 13,
     "metadata": {},
     "output_type": "execute_result"
    }
   ],
   "source": [
    "emp1.year_sal()"
   ]
  },
  {
   "cell_type": "markdown",
   "id": "b5a944c3-0be9-4f9d-b469-ebd328efe1fd",
   "metadata": {},
   "source": [
    "# Encapsulation"
   ]
  },
  {
   "cell_type": "code",
   "execution_count": 15,
   "id": "953f5d7b-f2eb-42c2-b9c2-a90a851b7f23",
   "metadata": {},
   "outputs": [],
   "source": [
    "# private variable"
   ]
  },
  {
   "cell_type": "code",
   "execution_count": 16,
   "id": "ae2d5e18-6482-4a00-8dcb-431f699a38f9",
   "metadata": {},
   "outputs": [],
   "source": [
    "class Employee:\n",
    "    comp = 'TCS'   # class variable\n",
    "    def __init__ (self, first, last, sal):  \n",
    "        self.first = first   # instance variables\n",
    "        self.last = last\n",
    "        self.__sal = sal   # private var(\n",
    "\n",
    "    def show_sal(self):\n",
    "        return f\"salary is {self.__sal}\""
   ]
  },
  {
   "cell_type": "code",
   "execution_count": 17,
   "id": "e3a16b52-da43-434b-afca-b499cc8c3778",
   "metadata": {},
   "outputs": [],
   "source": [
    "emp1 = Employee('Ajay', 'Mishra', 51000)"
   ]
  },
  {
   "cell_type": "code",
   "execution_count": 18,
   "id": "badbb454-5165-455d-ab7c-dfbd453f7dd0",
   "metadata": {},
   "outputs": [
    {
     "data": {
      "text/plain": [
       "'Ajay'"
      ]
     },
     "execution_count": 18,
     "metadata": {},
     "output_type": "execute_result"
    }
   ],
   "source": [
    "emp1.first"
   ]
  },
  {
   "cell_type": "code",
   "execution_count": 19,
   "id": "e05e38ef-c6ac-4f06-bc33-2bb88f7a9abb",
   "metadata": {},
   "outputs": [
    {
     "data": {
      "text/plain": [
       "'salary is 51000'"
      ]
     },
     "execution_count": 19,
     "metadata": {},
     "output_type": "execute_result"
    }
   ],
   "source": [
    "emp1.show_sal()"
   ]
  },
  {
   "cell_type": "code",
   "execution_count": 20,
   "id": "2faaa41a-98fc-4e28-aa04-379a24f1b0fe",
   "metadata": {},
   "outputs": [],
   "source": [
    "# Inherit"
   ]
  },
  {
   "cell_type": "code",
   "execution_count": 21,
   "id": "c88d4ffc-61be-4ef1-aa58-f787f759f732",
   "metadata": {},
   "outputs": [],
   "source": [
    "class Employee2(Employee):\n",
    "    pass"
   ]
  },
  {
   "cell_type": "code",
   "execution_count": 22,
   "id": "66ad9e2e-67f9-4be1-a51c-2ea4cc2ed63a",
   "metadata": {},
   "outputs": [],
   "source": [
    "emp3 = Employee2('Natasha', 'Reddy', 48000)"
   ]
  },
  {
   "cell_type": "code",
   "execution_count": 23,
   "id": "861c9fc2-9d17-461b-ae57-2338896d7c57",
   "metadata": {},
   "outputs": [
    {
     "data": {
      "text/plain": [
       "'Natasha'"
      ]
     },
     "execution_count": 23,
     "metadata": {},
     "output_type": "execute_result"
    }
   ],
   "source": [
    "emp3.first"
   ]
  },
  {
   "cell_type": "code",
   "execution_count": 24,
   "id": "4964d68e-5663-4d07-b5b6-2bac52aa42e6",
   "metadata": {},
   "outputs": [],
   "source": [
    "# create a class called person\n",
    "# attributselfes => name, age, address\n",
    "# make address => private variable\n",
    "# create a method which will show all the info"
   ]
  },
  {
   "cell_type": "code",
   "execution_count": 25,
   "id": "5dd7114d-603d-45a7-ac12-2e56a8a0bf89",
   "metadata": {},
   "outputs": [],
   "source": [
    "class Person:\n",
    "    def __init__(self, name, age, address):\n",
    "        self.name=name\n",
    "        self.age=age\n",
    "        self.__address=address\n",
    "\n",
    "    def show_info(self):\n",
    "        print(f\"Name:{self.name}\")\n",
    "        print(f\"Age:{self.age}\")\n",
    "        print(f\"Address:{self.__address}\")\n",
    "\n",
    "    def __str__ (self):\n",
    "        return f\"{self.name}, {self.age}, {self.__address}\""
   ]
  },
  {
   "cell_type": "code",
   "execution_count": 26,
   "id": "d900a72e-b69a-4f69-b5f7-4735153eefc9",
   "metadata": {},
   "outputs": [],
   "source": [
    "p1 = Person('Sapna', 19, 'Pune')"
   ]
  },
  {
   "cell_type": "code",
   "execution_count": 27,
   "id": "356d028f-3035-43e8-b7e3-441c25a8ccc0",
   "metadata": {},
   "outputs": [
    {
     "data": {
      "text/plain": [
       "['_Person__address',\n",
       " '__class__',\n",
       " '__delattr__',\n",
       " '__dict__',\n",
       " '__dir__',\n",
       " '__doc__',\n",
       " '__eq__',\n",
       " '__format__',\n",
       " '__ge__',\n",
       " '__getattribute__',\n",
       " '__getstate__',\n",
       " '__gt__',\n",
       " '__hash__',\n",
       " '__init__',\n",
       " '__init_subclass__',\n",
       " '__le__',\n",
       " '__lt__',\n",
       " '__module__',\n",
       " '__ne__',\n",
       " '__new__',\n",
       " '__reduce__',\n",
       " '__reduce_ex__',\n",
       " '__repr__',\n",
       " '__setattr__',\n",
       " '__sizeof__',\n",
       " '__str__',\n",
       " '__subclasshook__',\n",
       " '__weakref__',\n",
       " 'age',\n",
       " 'name',\n",
       " 'show_info']"
      ]
     },
     "execution_count": 27,
     "metadata": {},
     "output_type": "execute_result"
    }
   ],
   "source": [
    "dir(p1)"
   ]
  },
  {
   "cell_type": "code",
   "execution_count": 28,
   "id": "70058b9b-1ad8-4e04-b641-dead6f4101f4",
   "metadata": {},
   "outputs": [
    {
     "name": "stdout",
     "output_type": "stream",
     "text": [
      "Sapna, 19, Pune\n"
     ]
    }
   ],
   "source": [
    "print(p1)"
   ]
  },
  {
   "cell_type": "markdown",
   "id": "b4ed8863-587b-4711-b76d-9a962370190d",
   "metadata": {},
   "source": [
    "# Polymorphism"
   ]
  },
  {
   "cell_type": "code",
   "execution_count": 30,
   "id": "5d256b91-898c-4622-9191-44b369a98e65",
   "metadata": {},
   "outputs": [],
   "source": [
    "class Pokemon:\n",
    "    pass"
   ]
  },
  {
   "cell_type": "code",
   "execution_count": 31,
   "id": "b7fa155c-950a-4a61-a909-ff7249ddeb78",
   "metadata": {},
   "outputs": [],
   "source": [
    "class Fire(Pokemon):\n",
    "    def __init__ (self):\n",
    "        pass\n",
    "    \n",
    "    def su_eff(self):\n",
    "        return f\"grass\""
   ]
  },
  {
   "cell_type": "code",
   "execution_count": 32,
   "id": "a363e9d8-ee94-4823-9870-8417bf0eb058",
   "metadata": {},
   "outputs": [],
   "source": [
    "class Water(Pokemon):\n",
    "\n",
    "    def __init__ (self):\n",
    "        pass\n",
    "    \n",
    "    def su_eff(self):\n",
    "        return f\"fire\""
   ]
  },
  {
   "cell_type": "code",
   "execution_count": 33,
   "id": "22de6d44-f5a5-4578-846d-7e98b9968b41",
   "metadata": {},
   "outputs": [],
   "source": [
    "def type_adv(pkmn):\n",
    "    return f\"{pkmn.su_eff()}\""
   ]
  },
  {
   "cell_type": "code",
   "execution_count": 34,
   "id": "2ba9bb1c-2a69-40c4-9741-e5903df17d9b",
   "metadata": {},
   "outputs": [],
   "source": [
    "fire1 = Fire()\n",
    "water1 = Water()"
   ]
  },
  {
   "cell_type": "code",
   "execution_count": 35,
   "id": "1a57a4c2-fe75-47a0-9109-be6978ffa467",
   "metadata": {},
   "outputs": [
    {
     "data": {
      "text/plain": [
       "'grass'"
      ]
     },
     "execution_count": 35,
     "metadata": {},
     "output_type": "execute_result"
    }
   ],
   "source": [
    "type_adv(fire1)"
   ]
  },
  {
   "cell_type": "code",
   "execution_count": 36,
   "id": "a0c32cc8-f327-4128-8236-6b25d4675287",
   "metadata": {},
   "outputs": [
    {
     "data": {
      "text/plain": [
       "'fire'"
      ]
     },
     "execution_count": 36,
     "metadata": {},
     "output_type": "execute_result"
    }
   ],
   "source": [
    "type_adv(water1)"
   ]
  },
  {
   "cell_type": "code",
   "execution_count": 37,
   "id": "8b7fe3b2-cee5-45c2-8983-ad3394577c2a",
   "metadata": {},
   "outputs": [],
   "source": [
    "### operator Overriding"
   ]
  },
  {
   "cell_type": "code",
   "execution_count": 38,
   "id": "9c0ea33d-c99f-43d8-b803-35bf0cb8b4ee",
   "metadata": {},
   "outputs": [],
   "source": [
    "# chainging the functionality of +, -, ..."
   ]
  },
  {
   "cell_type": "code",
   "execution_count": 39,
   "id": "c7b1c3f7-03de-40b9-ae7b-908139a683f8",
   "metadata": {},
   "outputs": [],
   "source": [
    "class Vector:\n",
    "\n",
    "    def __init__ (self, x, y):\n",
    "        self.x = x\n",
    "        self.y = y\n",
    "\n",
    "    def __add__ (self, other):\n",
    "        return Vector(self.x + other.x, self.y + other.y)\n",
    "\n",
    "    def __repr__ (self):\n",
    "        return f\"Vector {self.x}, {self.y}\""
   ]
  },
  {
   "cell_type": "code",
   "execution_count": 40,
   "id": "7dc7a8af-93bd-4208-a63a-aba8712dea10",
   "metadata": {},
   "outputs": [],
   "source": [
    "v1 = Vector(3, 5)\n",
    "v2 = Vector(5, 10)"
   ]
  },
  {
   "cell_type": "code",
   "execution_count": 41,
   "id": "43470242-e79f-4580-bf2c-fbca41048240",
   "metadata": {},
   "outputs": [
    {
     "data": {
      "text/plain": [
       "Vector 8, 15"
      ]
     },
     "execution_count": 41,
     "metadata": {},
     "output_type": "execute_result"
    }
   ],
   "source": [
    "v1 + v2"
   ]
  },
  {
   "cell_type": "markdown",
   "id": "6f308eee-e24e-45a1-b76d-dca6b45ebcfb",
   "metadata": {},
   "source": [
    "# destructor"
   ]
  },
  {
   "cell_type": "code",
   "execution_count": 43,
   "id": "0cf4a8ef-50cc-4b20-9fa1-3a8600b06808",
   "metadata": {},
   "outputs": [],
   "source": [
    "class Employee:\n",
    "\n",
    "    employee_count = 0\n",
    "\n",
    "    def __init__ (self, name, sal):\n",
    "        self.name = name\n",
    "        self.sal = sal\n",
    "        Employee.employee_count += 1\n",
    "\n",
    "    # method for emp details\n",
    "    def show_details(self):\n",
    "        print(f\"name: {self.name}, sal: {self.sal}\")\n",
    "\n",
    "    # destructor \n",
    "    def __del__ (self):\n",
    "        Employee.employee_count -= 1\n",
    "        print(f\"Employee {self.name} has been removed\")"
   ]
  },
  {
   "cell_type": "code",
   "execution_count": 44,
   "id": "1e775e37-964d-4d41-97f4-419e6329a407",
   "metadata": {},
   "outputs": [],
   "source": [
    "emp1 = Employee('Ankit', 56000)\n",
    "emp2 = Employee('Parth', 60000)"
   ]
  },
  {
   "cell_type": "code",
   "execution_count": 45,
   "id": "9f250035-cd34-4875-9f6e-9322b21d6a34",
   "metadata": {},
   "outputs": [
    {
     "name": "stdout",
     "output_type": "stream",
     "text": [
      "name: Parth, sal: 60000\n"
     ]
    }
   ],
   "source": [
    "emp2.show_details()"
   ]
  },
  {
   "cell_type": "code",
   "execution_count": 46,
   "id": "3b360952-3e1b-44a6-b974-b91278b39af5",
   "metadata": {},
   "outputs": [
    {
     "data": {
      "text/plain": [
       "2"
      ]
     },
     "execution_count": 46,
     "metadata": {},
     "output_type": "execute_result"
    }
   ],
   "source": [
    "Employee.employee_count"
   ]
  },
  {
   "cell_type": "code",
   "execution_count": 47,
   "id": "710e7023-063d-482b-831f-d2e06ae15c00",
   "metadata": {},
   "outputs": [
    {
     "name": "stdout",
     "output_type": "stream",
     "text": [
      "Employee Parth has been removed\n"
     ]
    }
   ],
   "source": [
    "del emp2"
   ]
  },
  {
   "cell_type": "code",
   "execution_count": null,
   "id": "e315b1a9-0e32-4636-811d-4cb432c3588e",
   "metadata": {},
   "outputs": [],
   "source": [
    "\"\"\"\n",
    "attributes for banking => account no, name, balance\n",
    "methods => deposite, withdraw  (after using these it should also show the\n",
    "            current balance)\n",
    "\n",
    "\"\""
   ]
  },
  {
   "cell_type": "code",
   "execution_count": 115,
   "id": "113982a8-afdb-4242-bae9-ec6f25160ce0",
   "metadata": {},
   "outputs": [],
   "source": [
    "class Bank:\n",
    "  def __init__(self,acno,name,balance=0):\n",
    "      self.acno = acno\n",
    "      self.name = name\n",
    "      self.balance = balance\n",
    "  def deposit(self,amount):\n",
    "\n",
    "          self.balance += amount\n",
    "          print(\"Deposited:,{amount}\")\n",
    "      \n",
    "\n",
    "  def withdraw(self, amount):\n",
    "      if amount > 0 and amount <= self.balance:\n",
    "          self.balance <= amount\n",
    "          print(f\"Withdraw.{amount}\")\n",
    "      else:\n",
    "          amount > self.balance\n",
    "          print(f\"Insufficient balance:\")\n",
    "  def show_balance(self):\n",
    "       print(f\"Account_balance:{self.balance}\")\n",
    "      "
   ]
  },
  {
   "cell_type": "code",
   "execution_count": 117,
   "id": "d5f9949d-f3b8-43c8-b0ad-3cd4a713aca6",
   "metadata": {},
   "outputs": [
    {
     "name": "stdout",
     "output_type": "stream",
     "text": [
      "Deposited:,{amount}\n",
      "Withdraw.2000\n",
      "Account_balance:25000\n"
     ]
    }
   ],
   "source": [
    "account = Bank(acno ='2465786',name=\"Vaishu\",balance = 20000)\n",
    "account.deposit(5000)\n",
    "account.withdraw(2000)\n",
    "account.show_balance()"
   ]
  },
  {
   "cell_type": "code",
   "execution_count": null,
   "id": "de58418b-bfde-4bf4-ba18-a2825aa6cc7c",
   "metadata": {},
   "outputs": [],
   "source": [
    "https://mitu.co.in/review\n",
    "\n",
    "https://mitu.co.in/feedback\n",
    "\n",
    "https://mitu.co.in/downloads -> content\n",
    "\n",
    "adityathakare72@gmail.com"
   ]
  }
 ],
 "metadata": {
  "kernelspec": {
   "display_name": "Python 3 (ipykernel)",
   "language": "python",
   "name": "python3"
  },
  "language_info": {
   "codemirror_mode": {
    "name": "ipython",
    "version": 3
   },
   "file_extension": ".py",
   "mimetype": "text/x-python",
   "name": "python",
   "nbconvert_exporter": "python",
   "pygments_lexer": "ipython3",
   "version": "3.12.4"
  }
 },
 "nbformat": 4,
 "nbformat_minor": 5
}
