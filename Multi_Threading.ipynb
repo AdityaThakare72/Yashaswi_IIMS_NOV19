{
 "cells": [
  {
   "cell_type": "code",
   "execution_count": 2,
   "id": "3759f6c1-39ae-4919-a442-56452c919c4d",
   "metadata": {},
   "outputs": [],
   "source": [
    "import time"
   ]
  },
  {
   "cell_type": "code",
   "execution_count": 6,
   "id": "d2dee11a-4c4c-4cf0-a3a3-4486e843c3d0",
   "metadata": {},
   "outputs": [
    {
     "name": "stdout",
     "output_type": "stream",
     "text": [
      "number => 0\n",
      "number => 1\n",
      "number => 2\n",
      "number => 3\n",
      "number => 4\n",
      "letter => a\n",
      "letter => b\n",
      "letter => c\n",
      "letter => d\n",
      "letter => e\n",
      "time taken is 0.00011205673217773438\n"
     ]
    }
   ],
   "source": [
    "def print_num():\n",
    "    for i in range(5):\n",
    "        print(f\"number => {i}\")\n",
    "\n",
    "\n",
    "def print_let():\n",
    "    for l in 'abcde':\n",
    "        print(f\"letter => {l}\")\n",
    "\n",
    "t = time.time()\n",
    "\n",
    "print_num()\n",
    "print_let()\n",
    "\n",
    "time_taken = time.time() - t\n",
    "print(f\"time taken is {time_taken}\")"
   ]
  },
  {
   "cell_type": "code",
   "execution_count": 8,
   "id": "fbb6ce15-8637-4935-aa47-b7f7e71706ed",
   "metadata": {},
   "outputs": [
    {
     "name": "stdout",
     "output_type": "stream",
     "text": [
      "number => 0\n",
      "number => 1\n",
      "number => 2\n",
      "number => 3\n",
      "number => 4\n",
      "letter => a\n",
      "letter => b\n",
      "letter => c\n",
      "letter => d\n",
      "letter => e\n",
      "time taken is 20.002397775650024\n"
     ]
    }
   ],
   "source": [
    "# with single thread\n",
    "\n",
    "def print_num():\n",
    "    for i in range(5):\n",
    "        time.sleep(2)\n",
    "        print(f\"number => {i}\")\n",
    "\n",
    "\n",
    "def print_let():\n",
    "    for l in 'abcde':\n",
    "        time.sleep(2)\n",
    "        print(f\"letter => {l}\")\n",
    "\n",
    "t = time.time()\n",
    "\n",
    "print_num()\n",
    "print_let()\n",
    "\n",
    "time_taken = time.time() - t\n",
    "print(f\"time taken is {time_taken}\")"
   ]
  },
  {
   "cell_type": "code",
   "execution_count": 10,
   "id": "e090470b-fc43-4f56-b179-00f04c40879b",
   "metadata": {},
   "outputs": [],
   "source": [
    "# threading"
   ]
  },
  {
   "cell_type": "code",
   "execution_count": 12,
   "id": "3a61e41f-646d-49ec-939f-fc0bb8f47ffc",
   "metadata": {},
   "outputs": [],
   "source": [
    "import threading"
   ]
  },
  {
   "cell_type": "code",
   "execution_count": 14,
   "id": "9695fe2e-2d66-4223-8249-c94121e5912f",
   "metadata": {},
   "outputs": [
    {
     "name": "stdout",
     "output_type": "stream",
     "text": [
      "number => 0\n",
      "letter => a\n",
      "number => 1\n",
      "letter => b\n",
      "number => 2\n",
      "letter => c\n",
      "number => 3letter => d\n",
      "\n",
      "number => 4\n",
      "letter => e\n",
      "time taken is 10.002704858779907\n"
     ]
    }
   ],
   "source": [
    "# with single thread\n",
    "\n",
    "def print_num():\n",
    "    for i in range(5):\n",
    "        time.sleep(2)\n",
    "        print(f\"number => {i}\")\n",
    "\n",
    "\n",
    "def print_let():\n",
    "    for l in 'abcde':\n",
    "        time.sleep(2)\n",
    "        print(f\"letter => {l}\")\n",
    "\n",
    "t = time.time()\n",
    "\n",
    "# create threads\n",
    "t1 = threading.Thread(target= print_num)\n",
    "t2 = threading.Thread(target = print_let)\n",
    "\n",
    "# start the thread\n",
    "t1.start()\n",
    "t2.start()\n",
    "\n",
    "# sync\n",
    "t1.join()\n",
    "t2.join()\n",
    "\n",
    "time_taken = time.time() - t\n",
    "print(f\"time taken is {time_taken}\")"
   ]
  },
  {
   "cell_type": "code",
   "execution_count": null,
   "id": "4692681e-3128-4965-9064-b126236e89ba",
   "metadata": {},
   "outputs": [],
   "source": []
  }
 ],
 "metadata": {
  "kernelspec": {
   "display_name": "Python 3 (ipykernel)",
   "language": "python",
   "name": "python3"
  },
  "language_info": {
   "codemirror_mode": {
    "name": "ipython",
    "version": 3
   },
   "file_extension": ".py",
   "mimetype": "text/x-python",
   "name": "python",
   "nbconvert_exporter": "python",
   "pygments_lexer": "ipython3",
   "version": "3.12.4"
  }
 },
 "nbformat": 4,
 "nbformat_minor": 5
}
