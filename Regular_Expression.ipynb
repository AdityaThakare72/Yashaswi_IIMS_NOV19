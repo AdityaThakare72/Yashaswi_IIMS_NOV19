{
 "cells": [
  {
   "cell_type": "code",
   "execution_count": 12,
   "id": "8d794d86-4652-4e7e-a3fe-5e02baa25dda",
   "metadata": {},
   "outputs": [],
   "source": [
    "import re"
   ]
  },
  {
   "cell_type": "code",
   "execution_count": 14,
   "id": "ce6f0635-6f24-470d-8d23-a426639c4a33",
   "metadata": {},
   "outputs": [],
   "source": [
    "'''\n",
    "[]  Represent a character class\n",
    "^   Matches the beginning\n",
    "$   Matches the end\n",
    ".   Matches any character except newline\n",
    "?   Matches zero or one occurrence.\n",
    "|   Means OR (Matches with any of the characters\n",
    "    separated by it.\n",
    "*   Any number of occurrences (including 0 occurrences)\n",
    "+   One or more occurrences\n",
    "{}  Indicate number of occurrences of a preceding RE \n",
    "    to match.\n",
    "()  Enclose a group of REs''';"
   ]
  },
  {
   "cell_type": "code",
   "execution_count": 68,
   "id": "651bf7da-bd5f-4270-a22a-4d77996ea556",
   "metadata": {},
   "outputs": [
    {
     "name": "stdout",
     "output_type": "stream",
     "text": [
      "Match not found.\n"
     ]
    }
   ],
   "source": [
    "# Define a regular expression pattern\n",
    "pattern = r\"expression\"\n",
    "# Match the pattern against a string\n",
    "text = \"Hello, world!\"\n",
    "match = re.search(pattern, text)\n",
    "if match:\n",
    "    print(\"Match found!\")\n",
    "else:\n",
    "    print(\"Match not found.\")"
   ]
  },
  {
   "cell_type": "code",
   "execution_count": 10,
   "id": "500df832-536d-44e0-8eac-0962824e469d",
   "metadata": {},
   "outputs": [
    {
     "name": "stdout",
     "output_type": "stream",
     "text": [
      "['rat', 'hat']\n"
     ]
    }
   ],
   "source": [
    "# Searching for a pattern in re using re.findall() Method\n",
    "# You can also use the re.findall function to find all\n",
    "# occurrences of the pattern in a string:\n",
    "\n",
    "import re\n",
    "pattern = r\"[a-z]+at\"\n",
    "text = \"The rat is in the hat.\"\n",
    "matches = re.findall(pattern, text)\n",
    "print(matches)\n"
   ]
  },
  {
   "cell_type": "code",
   "execution_count": 6,
   "id": "4741c498-c219-4de4-8320-729612c736ba",
   "metadata": {},
   "outputs": [
    {
     "name": "stdout",
     "output_type": "stream",
     "text": [
      "['rat', 'cat']\n",
      "The dog is in the dog.\n"
     ]
    }
   ],
   "source": [
    "# The following example shows how to replace a pattern in a string:\n",
    "pattern = r\"[a-z]+at\"\n",
    "text = \"The rat is in the cat.\"\n",
    "matches = re.findall(pattern, text)\n",
    "print(matches)\n",
    "\n",
    "new_text = re.sub(pattern, \"dog\", text)\n",
    "print(new_text)"
   ]
  },
  {
   "cell_type": "code",
   "execution_count": 8,
   "id": "ed0db477-274e-4b04-a8c1-37e5e3656cbd",
   "metadata": {},
   "outputs": [
    {
     "name": "stdout",
     "output_type": "stream",
     "text": [
      "xyz@example.com\n"
     ]
    }
   ],
   "source": [
    "# Extracting information from a string\n",
    "\n",
    "# from a string using regular expressions:\n",
    "\n",
    "import re\n",
    "text = \"The email address is xyz@example.com.\"\n",
    "pattern = r\"\\w+@\\w+\\.\\w+\"\n",
    "match = re.search(pattern, text)\n",
    "if match:\n",
    "    email = match.group()\n",
    "    print(email)"
   ]
  },
  {
   "cell_type": "code",
   "execution_count": null,
   "id": "eb8ea9d4-ba5d-4e2b-abfb-73f17a1899ad",
   "metadata": {},
   "outputs": [],
   "source": []
  },
  {
   "cell_type": "code",
   "execution_count": null,
   "id": "4d13b073-5f08-4423-af3a-13df87f8eb5d",
   "metadata": {},
   "outputs": [],
   "source": []
  },
  {
   "cell_type": "code",
   "execution_count": 78,
   "id": "c39dcc67-26d5-48b7-bd6a-3b1f166ddff5",
   "metadata": {},
   "outputs": [],
   "source": [
    "pattern = r'to'"
   ]
  },
  {
   "cell_type": "code",
   "execution_count": 80,
   "id": "b976cd7c-ad87-4f3d-96d9-624e2cf011d2",
   "metadata": {},
   "outputs": [
    {
     "data": {
      "text/plain": [
       "<re.Match object; span=(8, 10), match='to'>"
      ]
     },
     "execution_count": 80,
     "metadata": {},
     "output_type": "execute_result"
    }
   ],
   "source": [
    "re.search(pattern, text1)"
   ]
  },
  {
   "cell_type": "code",
   "execution_count": 152,
   "id": "b477eb27-1c8b-4c9c-b833-a2be8cfa382a",
   "metadata": {},
   "outputs": [],
   "source": [
    "tex = '''tueam Bieam seam rim ball tall\n",
    "ream clean'''"
   ]
  },
  {
   "cell_type": "code",
   "execution_count": 154,
   "id": "72c21e04-f742-4487-800e-5ae77812bebd",
   "metadata": {},
   "outputs": [],
   "source": [
    "pattern = r'[A-Z, a-z]+ea+[a-z]+'\n",
    "# []=> pattern matching before or after letter"
   ]
  },
  {
   "cell_type": "code",
   "execution_count": 156,
   "id": "05f25673-3aac-4a17-a2b3-11edd7083fff",
   "metadata": {},
   "outputs": [
    {
     "data": {
      "text/plain": [
       "<re.Match object; span=(0, 16), match='tueam Bieam seam'>"
      ]
     },
     "execution_count": 156,
     "metadata": {},
     "output_type": "execute_result"
    }
   ],
   "source": [
    "re.search(pattern, tex)\n",
    "# search -> only in one line"
   ]
  },
  {
   "cell_type": "code",
   "execution_count": 160,
   "id": "3730753a-83a7-45cb-973c-17b0485a4f71",
   "metadata": {},
   "outputs": [
    {
     "name": "stdout",
     "output_type": "stream",
     "text": [
      "<re.Match object; span=(0, 16), match='tueam Bieam seam'>\n",
      "<re.Match object; span=(31, 41), match='ream clean'>\n"
     ]
    }
   ],
   "source": [
    "for i in re.finditer(pattern, tex):\n",
    "    print(i)\n",
    "\n",
    "# finditer -> every occurence"
   ]
  },
  {
   "cell_type": "code",
   "execution_count": 164,
   "id": "25824df8-fa2f-4899-8434-a9346ad98a9c",
   "metadata": {},
   "outputs": [
    {
     "name": "stdout",
     "output_type": "stream",
     "text": [
      "(0, 16)\n",
      "(31, 41)\n"
     ]
    }
   ],
   "source": [
    "for i in re.finditer(pattern, tex):\n",
    "    print(i.span())"
   ]
  },
  {
   "cell_type": "code",
   "execution_count": 170,
   "id": "0f3686c1-882c-48af-bc22-74087da864a9",
   "metadata": {},
   "outputs": [
    {
     "name": "stdout",
     "output_type": "stream",
     "text": [
      "tueam Bieam seam\n",
      "ream clean\n"
     ]
    }
   ],
   "source": [
    "for i in re.finditer(pattern, tex):\n",
    "    print(tex[i.span()[0]:i.span()[1]])"
   ]
  },
  {
   "cell_type": "code",
   "execution_count": null,
   "id": "55cf5e8e-bd38-40e8-bfd5-135450e916c1",
   "metadata": {},
   "outputs": [],
   "source": []
  }
 ],
 "metadata": {
  "kernelspec": {
   "display_name": "Python 3 (ipykernel)",
   "language": "python",
   "name": "python3"
  },
  "language_info": {
   "codemirror_mode": {
    "name": "ipython",
    "version": 3
   },
   "file_extension": ".py",
   "mimetype": "text/x-python",
   "name": "python",
   "nbconvert_exporter": "python",
   "pygments_lexer": "ipython3",
   "version": "3.12.4"
  }
 },
 "nbformat": 4,
 "nbformat_minor": 5
}
